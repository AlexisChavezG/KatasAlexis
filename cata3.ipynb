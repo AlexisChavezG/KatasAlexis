{
 "cells": [
  {
   "cell_type": "markdown",
   "metadata": {},
   "source": [
    "# Calculadora de velocidad"
   ]
  },
  {
   "cell_type": "code",
   "execution_count": 1,
   "metadata": {},
   "outputs": [
    {
     "name": "stdout",
     "output_type": "stream",
     "text": [
      "¡Se ha detectado un asteroide a una velocidad que supera la permitida\n"
     ]
    }
   ],
   "source": [
    "maximaVelocidad = 25\n",
    "velocidadActual  = 49\n",
    "if(velocidadActual > maximaVelocidad):\n",
    "    print('¡Se ha detectado un asteroide a una velocidad que supera la permitida')\n"
   ]
  },
  {
   "cell_type": "markdown",
   "metadata": {},
   "source": [
    "# Asteroide luces!"
   ]
  },
  {
   "cell_type": "code",
   "execution_count": 2,
   "metadata": {},
   "outputs": [
    {
     "name": "stdout",
     "output_type": "stream",
     "text": [
      "¡Aviso!, un asteroide producirá un rayo de luz\n"
     ]
    }
   ],
   "source": [
    "velocidadAsteriode = 21\n",
    "if velocidadAsteriode > 20 :\n",
    "    print('¡Aviso!, un asteroide producirá un rayo de luz')\n",
    "elif velocidadAsteriode == 20:\n",
    "    print('¡Aviso!, un asteroide producirá un rayo de luz')\n",
    "else:\n",
    "    print('No hay nada en el cielo')\n",
    "\n"
   ]
  },
  {
   "cell_type": "markdown",
   "metadata": {},
   "source": [
    "# Sistema de advertencia de asteroides"
   ]
  },
  {
   "cell_type": "code",
   "execution_count": 3,
   "metadata": {},
   "outputs": [
    {
     "name": "stdout",
     "output_type": "stream",
     "text": [
      "¡Alerta! un asteroide de gran tamaño ha sido detectado, aunque ha baja velocidad\n"
     ]
    }
   ],
   "source": [
    "tamanioAsteiori = 812\n",
    "velocidad = 10\n",
    "if tamanioAsteiori < 25 :\n",
    "    print('Se ha detectado un asteroide de no preocupación')\n",
    "elif tamanioAsteiori >= 25 and tamanioAsteiori <= 1000 and velocidad < 20:\n",
    "    print ('¡Alerta! un asteroide de gran tamaño ha sido detectado, aunque ha baja velocidad')\n",
    "elif tamanioAsteiori >= 25 and tamanioAsteiori <= 1000 and velocidad > 20:\n",
    "    print ('¡Alerta! un asteroide de gran tamaño ha sido detectado, causará gran destrucción')\n",
    "elif tamanioAsteiori < 20 and velocidad > 20:\n",
    "    print('¡Aviso!, un asteroide producirá un rayo de luz')\n",
    "else :\n",
    "    print ('Sin novedad')\n"
   ]
  }
 ],
 "metadata": {
  "interpreter": {
   "hash": "aee8b7b246df8f9039afb4144a1f6fd8d2ca17a180786b69acc140d282b71a49"
  },
  "kernelspec": {
   "display_name": "Python 3.10.2 64-bit",
   "language": "python",
   "name": "python3"
  },
  "language_info": {
   "codemirror_mode": {
    "name": "ipython",
    "version": 3
   },
   "file_extension": ".py",
   "mimetype": "text/x-python",
   "name": "python",
   "nbconvert_exporter": "python",
   "pygments_lexer": "ipython3",
   "version": "3.10.2"
  },
  "orig_nbformat": 4
 },
 "nbformat": 4,
 "nbformat_minor": 2
}
