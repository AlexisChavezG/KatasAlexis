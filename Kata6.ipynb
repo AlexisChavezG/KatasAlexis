{
 "cells": [
  {
   "cell_type": "markdown",
   "metadata": {},
   "source": [
    "## Lista de planetas"
   ]
  },
  {
   "cell_type": "code",
   "execution_count": 5,
   "metadata": {},
   "outputs": [
    {
     "name": "stdout",
     "output_type": "stream",
     "text": [
      "Mercurio\n",
      "Venus\n",
      "Tierra\n",
      "Marte\n",
      "Jupiter\n",
      "Saturno\n",
      "Urano\n",
      "Neptuno\n",
      "Pluton\n"
     ]
    }
   ],
   "source": [
    "#Crear una lista de planetas\n",
    "planetas = ['Mercurio','Venus','Tierra','Marte','Jupiter','Saturno','Urano','Neptuno']\n",
    "for item in planetas:\n",
    "    print(item)\n",
    "\n",
    "#Agregar a pluton\n",
    "planetas.append('Pluton')\n",
    "print(planetas[len(planetas)-1])"
   ]
  },
  {
   "cell_type": "code",
   "execution_count": 15,
   "metadata": {},
   "outputs": [
    {
     "name": "stdout",
     "output_type": "stream",
     "text": [
      "El planeta ingresado es Jupiter y esta adelante de:  ['Mercury', 'Venus', 'Earth', 'Mars']\n",
      "Y los planetas que estan despues de Jupiter son  ['Saturn', 'Neptune']\n"
     ]
    }
   ],
   "source": [
    "planets = ['Mercury', 'Venus', 'Earth', 'Mars', 'Jupiter', 'Saturn', 'Neptune']\n",
    "planetaSol = input('Introduce el nombre de un planeta: *La primera letra debe ser mayuscula')\n",
    "indexA = planets.index(planetaSol)\n",
    "find = planets[0:indexA]\n",
    "print('El planeta ingresado es',planetaSol, 'y esta adelante de: ',find)\n",
    "lejos= planets[indexA+1:]\n",
    "print(f'Y los planetas que estan despues de {planetaSol} son ',lejos)"
   ]
  }
 ],
 "metadata": {
  "interpreter": {
   "hash": "aee8b7b246df8f9039afb4144a1f6fd8d2ca17a180786b69acc140d282b71a49"
  },
  "kernelspec": {
   "display_name": "Python 3.10.2 64-bit",
   "language": "python",
   "name": "python3"
  },
  "language_info": {
   "codemirror_mode": {
    "name": "ipython",
    "version": 3
   },
   "file_extension": ".py",
   "mimetype": "text/x-python",
   "name": "python",
   "nbconvert_exporter": "python",
   "pygments_lexer": "ipython3",
   "version": "3.10.2"
  },
  "orig_nbformat": 4
 },
 "nbformat": 4,
 "nbformat_minor": 2
}
