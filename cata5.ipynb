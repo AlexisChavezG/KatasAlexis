{
 "cells": [
  {
   "cell_type": "code",
   "execution_count": 11,
   "metadata": {},
   "outputs": [
    {
     "name": "stdout",
     "output_type": "stream",
     "text": [
      "628949330\n",
      "390577534\n"
     ]
    }
   ],
   "source": [
    "tierra = 149597870 \n",
    "jupiter = 778547200 \n",
    "\n",
    "distancia = (jupiter - tierra)\n",
    "print(distancia)\n",
    "print(round(distancia * 0.621))#millas\n",
    "\n"
   ]
  },
  {
   "cell_type": "code",
   "execution_count": 8,
   "metadata": {},
   "outputs": [
    {
     "name": "stdout",
     "output_type": "stream",
     "text": [
      "31236300.0\n"
     ]
    }
   ],
   "source": [
    "planeta1 = input('Introduce la distancia del planeta número uno en KM: ')\n",
    "planeta2 = input('Introduce la distancia del plenta número dos en KM')\n",
    "cplanaeta1 = int(planeta1)\n",
    "cplaneta2 = int(planeta2)\n",
    "\n",
    "total =abs(cplanaeta1 - cplaneta2)\n",
    "print(total* 0.621)#Converto millas\n"
   ]
  }
 ],
 "metadata": {
  "interpreter": {
   "hash": "aee8b7b246df8f9039afb4144a1f6fd8d2ca17a180786b69acc140d282b71a49"
  },
  "kernelspec": {
   "display_name": "Python 3.10.2 64-bit",
   "language": "python",
   "name": "python3"
  },
  "language_info": {
   "codemirror_mode": {
    "name": "ipython",
    "version": 3
   },
   "file_extension": ".py",
   "mimetype": "text/x-python",
   "name": "python",
   "nbconvert_exporter": "python",
   "pygments_lexer": "ipython3",
   "version": "3.10.2"
  },
  "orig_nbformat": 4
 },
 "nbformat": 4,
 "nbformat_minor": 2
}
