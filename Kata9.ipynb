{
 "cells": [
  {
   "cell_type": "markdown",
   "metadata": {},
   "source": [
    "# Funciones"
   ]
  },
  {
   "cell_type": "code",
   "execution_count": 12,
   "metadata": {},
   "outputs": [
    {
     "name": "stdout",
     "output_type": "stream",
     "text": [
      "El promedio de llena es de 100.0, tanque uno: 100, tanque dos: 100, tanque tres: 100\n"
     ]
    }
   ],
   "source": [
    "def informe(tanque1 , tanque2, tanque3):\n",
    "    sum = tanque1+tanque2+tanque3\n",
    "    return f'El promedio de llena es de {promedio(sum)}, tanque uno: {tanque1}, tanque dos: {tanque2}, tanque tres: {tanque3}'\n",
    "    \n",
    "def promedio(sum):\n",
    "    return sum/3\n",
    "\n",
    "print(informe(100,100,100))"
   ]
  },
  {
   "cell_type": "code",
   "execution_count": 26,
   "metadata": {},
   "outputs": [
    {
     "name": "stdout",
     "output_type": "stream",
     "text": [
      "La hora de prelanzamiento es 10:20 am el tiempo de vuelo 10 HRS con destino CDMX con un tanque externo de una \n",
      "    capacidad 123123.123 Lts y un tanque interno de 1312.22 Lts\n",
      "La hora de prelanzamiento es 10:20 am el tiempo de vuelo 1439 con direccion a CDMX con tanques con un combustible\n",
      "    total de 336769 en sus 3\n",
      "La hora de prelanzamiento es 10:20 am el tiempo de vuelo 737 con direccion a CDMX con tanques con un combustible\n",
      "    total de 336769 en sus 3 Detalles: ((('', 'El tanque numero tanque1 tiene una capacidad de 234'), 'El tanque numero tanque2 tiene una capacidad de 123412'), 'El tanque numero tanque3 tiene una capacidad de 213123')\n"
     ]
    }
   ],
   "source": [
    "def mision(horaPre, tiempoVu,destino,tanqueEx, tanqueIn):\n",
    "    return f\"\"\"La hora de prelanzamiento es {horaPre} el tiempo de vuelo {tiempoVu} con destino {destino} con un tanque externo de una \n",
    "    capacidad {tanqueEx} Lts y un tanque interno de {tanqueIn} Lts\"\"\"\n",
    "\n",
    "print(mision('10:20 am','10 HRS','CDMX',123123.123,1312.22))\n",
    "\n",
    "def misionOpen(horaPre,destino ,*tiempoVu,**tanques):\n",
    "    return f\"\"\"La hora de prelanzamiento es {horaPre} el tiempo de vuelo {sum(tiempoVu)} con direccion a {destino} con tanques con un combustible\n",
    "    total de {sum(tanques.values())} en sus {len(tanques)}\"\"\"\n",
    "\n",
    "print(misionOpen('10:20 am','CDMX',10,123,23,23,234,324,234,234,234,tanque1 =234, tanque2=123412, tanque3=213123))\n",
    "\n",
    "def misionEs(horaPre,destino ,*tiempoVu,**tanques):\n",
    "    infoTanques = ''\n",
    "    for item in tanques:\n",
    "        infoTanques = infoTanques, f'El tanque numero {item} tiene una capacidad de {tanques[item]}'\n",
    "\n",
    "    return f\"\"\"La hora de prelanzamiento es {horaPre} el tiempo de vuelo {sum(tiempoVu)} con direccion a {destino} con tanques con un combustible\n",
    "    total de {sum(tanques.values())} en sus {len(tanques)} Detalles: {infoTanques}\"\"\"\n",
    "\n",
    "print(misionEs('10:20 am','CDMX',10,123,23,23,234,324,tanque1 =234, tanque2=123412, tanque3=213123))\n"
   ]
  }
 ],
 "metadata": {
  "interpreter": {
   "hash": "aee8b7b246df8f9039afb4144a1f6fd8d2ca17a180786b69acc140d282b71a49"
  },
  "kernelspec": {
   "display_name": "Python 3.10.2 64-bit",
   "language": "python",
   "name": "python3"
  },
  "language_info": {
   "codemirror_mode": {
    "name": "ipython",
    "version": 3
   },
   "file_extension": ".py",
   "mimetype": "text/x-python",
   "name": "python",
   "nbconvert_exporter": "python",
   "pygments_lexer": "ipython3",
   "version": "3.10.2"
  },
  "orig_nbformat": 4
 },
 "nbformat": 4,
 "nbformat_minor": 2
}
