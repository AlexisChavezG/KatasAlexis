{
 "cells": [
  {
   "cell_type": "markdown",
   "metadata": {},
   "source": [
    "# Kata número 8 "
   ]
  },
  {
   "cell_type": "code",
   "execution_count": 5,
   "metadata": {},
   "outputs": [
    {
     "name": "stdout",
     "output_type": "stream",
     "text": [
      "El nombre del planeta es marte y tiene 2 lunas\n",
      "El planeta marte tiene una circunferencia ecuatorial de 6792 y polar de 6752\n"
     ]
    }
   ],
   "source": [
    "#Diccionario con info de marte\n",
    "planet={\n",
    "    'name':'marte',\n",
    "    'moons':2\n",
    "\n",
    "}\n",
    "\n",
    "print(f'El nombre del planeta es {planet.get(\"name\")} y tiene {planet.get(\"moons\")} lunas' )\n",
    "\n",
    "planet['polar']=6752\n",
    "planet['ecuatorial']= 6792\n",
    "print(f'El planeta {planet[\"name\"]} tiene una circunferencia ecuatorial de {planet[\"ecuatorial\"]} y polar de {planet[\"polar\"]}')"
   ]
  },
  {
   "cell_type": "code",
   "execution_count": 18,
   "metadata": {},
   "outputs": [
    {
     "name": "stdout",
     "output_type": "stream",
     "text": [
      "dict_values([0, 0, 1, 2, 79, 82, 27, 14, 5, 2, 1, 1])\n",
      "12\n",
      "35.75\n"
     ]
    }
   ],
   "source": [
    "planet_moons = {\n",
    "    'mercury': 0,\n",
    "    'venus': 0,\n",
    "    'earth': 1,\n",
    "    'mars': 2,\n",
    "    'jupiter': 79,\n",
    "    'saturn': 82,\n",
    "    'uranus': 27,\n",
    "    'neptune': 14,\n",
    "    'pluto': 5,\n",
    "    'haumea': 2,\n",
    "    'makemake': 1,\n",
    "    'eris': 1\n",
    "}\n",
    "\n",
    "\n",
    "moons = planet_moons.values()\n",
    "print(moons)\n",
    "\n",
    "numPlanetas = len(planet_moons.keys())\n",
    "print(numPlanetas)\n",
    "tota = 0\n",
    "for item in moons:\n",
    "    total = item+total\n",
    "\n",
    "promedio = total/numPlanetas\n",
    "\n",
    "print(promedio)\n",
    "\n",
    "    "
   ]
  }
 ],
 "metadata": {
  "interpreter": {
   "hash": "aee8b7b246df8f9039afb4144a1f6fd8d2ca17a180786b69acc140d282b71a49"
  },
  "kernelspec": {
   "display_name": "Python 3.10.2 64-bit",
   "language": "python",
   "name": "python3"
  },
  "language_info": {
   "codemirror_mode": {
    "name": "ipython",
    "version": 3
   },
   "file_extension": ".py",
   "mimetype": "text/x-python",
   "name": "python",
   "nbconvert_exporter": "python",
   "pygments_lexer": "ipython3",
   "version": "3.10.2"
  },
  "orig_nbformat": 4
 },
 "nbformat": 4,
 "nbformat_minor": 2
}
